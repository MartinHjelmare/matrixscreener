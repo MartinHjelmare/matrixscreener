{
 "metadata": {
  "name": "",
  "signature": "sha256:28e5579964a4f04eafedc6be7124dbb61b902f05fa79095a6646b527467d32ec"
 },
 "nbformat": 3,
 "nbformat_minor": 0,
 "worksheets": [
  {
   "cells": [
    {
     "cell_type": "code",
     "collapsed": false,
     "input": [
      "import os\n",
      "\n",
      "#os.environ['DEBUG'] = 'matrixscreener'\n",
      "os.environ['DEBUG'] = ''"
     ],
     "language": "python",
     "metadata": {},
     "outputs": [],
     "prompt_number": 1
    },
    {
     "cell_type": "code",
     "collapsed": false,
     "input": [
      "import matrixscreener as ms\n",
      "e = ms.experiment.Experiment('../tests/experiment--test/')"
     ],
     "language": "python",
     "metadata": {},
     "outputs": [],
     "prompt_number": 2
    },
    {
     "cell_type": "code",
     "collapsed": false,
     "input": [
      "from PIL import Image\n",
      "i = Image.open(e.images[0])\n",
      "i.info"
     ],
     "language": "python",
     "metadata": {},
     "outputs": [
      {
       "metadata": {},
       "output_type": "pyout",
       "prompt_number": 3,
       "text": [
        "{'compression': 'raw', 'dpi': (105716.63707131297, 105716.63707131297)}"
       ]
      }
     ],
     "prompt_number": 3
    },
    {
     "cell_type": "code",
     "collapsed": false,
     "input": [
      "from IPython.display import Math\n",
      "# pixel size in microns\n",
      "Math(str(0.254 / _3['dpi'][0] * 1e6) + '\\mu m')"
     ],
     "language": "python",
     "metadata": {},
     "outputs": [
      {
       "latex": [
        "$$2.402649261616787\\mu m$$"
       ],
       "metadata": {},
       "output_type": "pyout",
       "prompt_number": 4,
       "text": [
        "<IPython.core.display.Math at 0x1107dc0f0>"
       ]
      }
     ],
     "prompt_number": 4
    },
    {
     "cell_type": "code",
     "collapsed": false,
     "input": [
      "!du -h -d 1 ../tests/experiment--test/"
     ],
     "language": "python",
     "metadata": {},
     "outputs": [
      {
       "output_type": "stream",
       "stream": "stdout",
       "text": [
        "4.4M\t../tests/experiment--test//slide--S00\r\n",
        "4.4M\t../tests/experiment--test/\r\n"
       ]
      }
     ],
     "prompt_number": 5
    },
    {
     "cell_type": "code",
     "collapsed": false,
     "input": [
      "filename = e.images[0]\n",
      "!ls -l $filename"
     ],
     "language": "python",
     "metadata": {},
     "outputs": [
      {
       "output_type": "stream",
       "stream": "stdout",
       "text": [
        "-rw-r--r--  1 arve  staff  1055760 Feb  3 23:09 ../tests/experiment--test/slide--S00/chamber--U00--V00/field--X00--Y00/image--L00--S00--U00--V00--J20--E00--O00--X00--Y00--T00--Z00--C00.ome.tif\r\n"
       ]
      }
     ],
     "prompt_number": 6
    },
    {
     "cell_type": "code",
     "collapsed": false,
     "input": [
      "import numpy as np\n",
      "orig = np.array(i)"
     ],
     "language": "python",
     "metadata": {},
     "outputs": [],
     "prompt_number": 8
    },
    {
     "cell_type": "code",
     "collapsed": false,
     "input": [
      "ms.experiment.compress(e.images, delete_tif=True)\n",
      "!du -h -d 1 ../tests/experiment--test/"
     ],
     "language": "python",
     "metadata": {},
     "outputs": [
      {
       "output_type": "stream",
       "stream": "stdout",
       "text": [
        "1.6M\t../tests/experiment--test//slide--S00\r\n",
        "1.6M\t../tests/experiment--test/\r\n"
       ]
      }
     ],
     "prompt_number": 9
    },
    {
     "cell_type": "code",
     "collapsed": false,
     "input": [
      "filename = e.images[0]\n",
      "!ls -l $filename"
     ],
     "language": "python",
     "metadata": {},
     "outputs": [
      {
       "output_type": "stream",
       "stream": "stdout",
       "text": [
        "-rw-r--r--  1 arve  staff  280843 Feb  3 23:33 ../tests/experiment--test/slide--S00/chamber--U00--V00/field--X00--Y00/image--L00--S00--U00--V00--J20--E00--O00--X00--Y00--T00--Z00--C00.png\r\n"
       ]
      }
     ],
     "prompt_number": 10
    },
    {
     "cell_type": "code",
     "collapsed": false,
     "input": [
      "i = Image.open(filename)\n",
      "compressed = np.array(i)"
     ],
     "language": "python",
     "metadata": {},
     "outputs": [],
     "prompt_number": 11
    },
    {
     "cell_type": "code",
     "collapsed": false,
     "input": [
      "ms.experiment.decompress(e.images, delete_png=True, delete_json=True)\n",
      "!du -h -d 1 ../tests/experiment--test/"
     ],
     "language": "python",
     "metadata": {},
     "outputs": [
      {
       "output_type": "stream",
       "stream": "stdout",
       "text": [
        "4.4M\t../tests/experiment--test//slide--S00\r\n",
        "4.4M\t../tests/experiment--test/\r\n"
       ]
      }
     ],
     "prompt_number": 12
    },
    {
     "cell_type": "code",
     "collapsed": false,
     "input": [
      "filename = e.images[0]\n",
      "!ls -l $filename"
     ],
     "language": "python",
     "metadata": {},
     "outputs": [
      {
       "output_type": "stream",
       "stream": "stdout",
       "text": [
        "-rw-r--r--  1 arve  staff  1055760 Feb  3 23:34 ../tests/experiment--test/slide--S00/chamber--U00--V00/field--X00--Y00/image--L00--S00--U00--V00--J20--E00--O00--X00--Y00--T00--Z00--C00.ome.tif\r\n"
       ]
      }
     ],
     "prompt_number": 13
    },
    {
     "cell_type": "code",
     "collapsed": false,
     "input": [
      "i = Image.open(filename)\n",
      "decompressed = np.array(i)"
     ],
     "language": "python",
     "metadata": {},
     "outputs": [],
     "prompt_number": 14
    },
    {
     "cell_type": "code",
     "collapsed": false,
     "input": [
      "# compare data\n",
      "np.all(orig == compressed)"
     ],
     "language": "python",
     "metadata": {},
     "outputs": [
      {
       "metadata": {},
       "output_type": "pyout",
       "prompt_number": 15,
       "text": [
        "True"
       ]
      }
     ],
     "prompt_number": 15
    },
    {
     "cell_type": "code",
     "collapsed": false,
     "input": [
      "np.all(orig == decompressed)"
     ],
     "language": "python",
     "metadata": {},
     "outputs": [
      {
       "metadata": {},
       "output_type": "pyout",
       "prompt_number": 16,
       "text": [
        "True"
       ]
      }
     ],
     "prompt_number": 16
    }
   ],
   "metadata": {}
  }
 ]
}