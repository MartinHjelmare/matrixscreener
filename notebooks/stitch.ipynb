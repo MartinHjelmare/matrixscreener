{
 "metadata": {
  "name": "",
  "signature": "sha256:9a15060467a1812065811cceb7ff3f88762e74f16d4c4ba3fafaa9ae6e3f21d7"
 },
 "nbformat": 3,
 "nbformat_minor": 0,
 "worksheets": [
  {
   "cells": [
    {
     "cell_type": "markdown",
     "metadata": {},
     "source": [
      "Start this notebook with `DEBUG=matrixscreener ipython notebook` for debug output."
     ]
    },
    {
     "cell_type": "code",
     "collapsed": false,
     "input": [
      "import py\n",
      "from py import path\n",
      "root = path.local.get_temproot()\n",
      "root.join('stitch-notebook').remove()\n",
      "tmpdir = root.mkdir('stitch-notebook')\n",
      "tmpdir.mkdir('stitched')"
     ],
     "language": "python",
     "metadata": {},
     "outputs": [
      {
       "metadata": {},
       "output_type": "pyout",
       "prompt_number": 1,
       "text": [
        "local('/var/folders/mx/t9hzs5852cxgk0548k1vdsxr0000gn/T/stitch-notebook/stitched')"
       ]
      }
     ],
     "prompt_number": 1
    },
    {
     "cell_type": "code",
     "collapsed": false,
     "input": [
      "def experiment():\n",
      "    from matrixscreener.experiment import Experiment\n",
      "    e = path.local('../tests/experiment--test')\n",
      "    e.copy(tmpdir.mkdir('experiment'))\n",
      "    return Experiment(tmpdir.join('experiment').strpath)"
     ],
     "language": "python",
     "metadata": {},
     "outputs": [],
     "prompt_number": 2
    },
    {
     "cell_type": "code",
     "collapsed": false,
     "input": [
      "e = experiment()"
     ],
     "language": "python",
     "metadata": {},
     "outputs": [],
     "prompt_number": 3
    },
    {
     "cell_type": "code",
     "collapsed": false,
     "input": [
      "e"
     ],
     "language": "python",
     "metadata": {},
     "outputs": [
      {
       "metadata": {},
       "output_type": "pyout",
       "prompt_number": 4,
       "text": [
        "matrixscreener.Experiment(/var/folders/mx/t9hzs5852cxgk0548k1vdsxr0000gn/T/stitch-notebook/experiment)"
       ]
      }
     ],
     "prompt_number": 4
    },
    {
     "cell_type": "code",
     "collapsed": false,
     "input": [
      "e.stitch(folder=tmpdir.join('stitched').strpath)"
     ],
     "language": "python",
     "metadata": {},
     "outputs": [
      {
       "output_type": "stream",
       "stream": "stderr",
       "text": [
        "Fri, 06 Feb 2015 16:12:03 GMT matrixscreener 'stitching matrixscreener.Experiment(/var/folders/mx/t9hzs5852cxgk0548k1vdsxr0000gn/T/stitch-notebook/experiment)' +0.0us\n",
        "Fri, 06 Feb 2015 16:12:03 GMT matrixscreener 'stitching /var/folders/mx/t9hzs5852cxgk0548k1vdsxr0000gn/T/stitch-notebook/experiment/slide--S00/chamber--U00--V00 to /var/folders/mx/t9hzs5852cxgk0548k1vdsxr0000gn/T/stitch-notebook/stitched' +883.0us\n",
        "Fri, 06 Feb 2015 16:12:03 GMT matrixscreener \"channels ['00', '01']\" +4.4ms\n",
        "Fri, 06 Feb 2015 16:12:03 GMT matrixscreener \"z-stacks ['00']\" +95.0us\n",
        "Fri, 06 Feb 2015 16:12:03 GMT matrixscreener 'filenames field--X{xx}--Y{yy}/image--L00--S00--U00--V00--J20--E00--O00--X{xx}--Y{yy}--T00--Z00--C00.tif' +122.0us\n",
        "Fri, 06 Feb 2015 16:12:03 GMT matrixscreener 'output_file stitched--U00--V00--C00--Z00.png' +363.0us\n",
        "Fri, 06 Feb 2015 16:12:03 GMT matrixscreener 'rel_filename ../../../stitched/stitched--U00--V00--C00--Z00.png' +107.0us\n",
        "Fri, 06 Feb 2015 16:12:03 GMT matrixscreener 'filenames field--X{xx}--Y{yy}/image--L00--S00--U00--V00--J20--E00--O00--X{xx}--Y{yy}--T00--Z00--C01.tif' +249.0us\n",
        "Fri, 06 Feb 2015 16:12:03 GMT matrixscreener 'output_file stitched--U00--V00--C00--Z00.png' +138.0us\n",
        "Fri, 06 Feb 2015 16:12:03 GMT matrixscreener 'rel_filename ../../../stitched/stitched--U00--V00--C00--Z00.png' +91.0us\n",
        "Fri, 06 Feb 2015 16:12:03 GMT matrixscreener 'macro [\\'run(\"Grid/Collection stitching\", \"type=[Filename defined position] order=[Defined by filename         ] grid_size_x=1 grid_size_y=2 tile_overlap=10 first_file_index_x=0 first_file_index_y=0 directory=[/var/folders/mx/t9hzs5852cxgk0548k1vdsxr0000gn/T/stitch-notebook/experiment/slide--S00/chamber--U00--V00] file_names=field--X{xx}--Y{yy}/image--L00--S00--U00--V00--J20--E00--O00--X{xx}--Y{yy}--T00--Z00--C00.tif output_textfile_name=TileConfiguration.txt fusion_method=[Linear Blending] regression_threshold=0.30 max/avg_displacement_threshold=2.50 absolute_displacement_threshold=3.50 compute_overlap subpixel_accuracy computation_parameters=[Save computation time (but use more RAM)] image_output=[Fused and display]\"); selectWindow(\"Fused\"); run(\"Save\", \"save=[/var/folders/mx/t9hzs5852cxgk0548k1vdsxr0000gn/T/stitch-notebook/experiment/slide--S00/chamber--U00--V00/../../../stitched/stitched--U00--V00--C00--Z00.png]\"); close();\\', \\'run(\"Grid/Collection stitching\", \"type=[Filename defined position] order=[Defined by filename         ] grid_size_x=1 grid_size_y=2 tile_overlap=10 first_file_index_x=0 first_file_index_y=0 directory=[/var/folders/mx/t9hzs5852cxgk0548k1vdsxr0000gn/T/stitch-notebook/experiment/slide--S00/chamber--U00--V00] file_names=field--X{xx}--Y{yy}/image--L00--S00--U00--V00--J20--E00--O00--X{xx}--Y{yy}--T00--Z00--C01.tif output_textfile_name=TileConfiguration.txt fusion_method=[Linear Blending] regression_threshold=0.30 max/avg_displacement_threshold=2.50 absolute_displacement_threshold=3.50 compute_overlap subpixel_accuracy computation_parameters=[Save computation time (but use more RAM)] image_output=[Fused and display]\"); selectWindow(\"Fused\"); run(\"Save\", \"save=[/var/folders/mx/t9hzs5852cxgk0548k1vdsxr0000gn/T/stitch-notebook/experiment/slide--S00/chamber--U00--V00/../../../stitched/stitched--U00--V00--C00--Z00.png]\"); close();\\']' +95.0us\n",
        "Fri, 06 Feb 2015 16:13:09 GMT matrixscreener 'stderr:java.lang.IllegalArgumentException: Could not handle HTTPS in public boolean install(java.lang.String path) in ij.plugin.PluginInstaller' +1.1m\n"
       ]
      },
      {
       "output_type": "stream",
       "stream": "stderr",
       "text": [
        "Fri, 06 Feb 2015 16:13:09 GMT matrixscreener 'stderr:\\tat net.imagej.patcher.CodeHacker.handleHTTPS(CodeHacker.java:1221)' +1.0ms\n",
        "Fri, 06 Feb 2015 16:13:09 GMT matrixscreener 'stderr:\\tat net.imagej.patcher.LegacyExtensions.injectHooks(LegacyExtensions.java:286)' +49.0us\n",
        "Fri, 06 Feb 2015 16:13:09 GMT matrixscreener 'stderr:\\tat net.imagej.patcher.LegacyInjector.inject(LegacyInjector.java:308)' +31.0us\n",
        "Fri, 06 Feb 2015 16:13:09 GMT matrixscreener 'stderr:\\tat net.imagej.patcher.LegacyInjector.injectHooks(LegacyInjector.java:109)' +43.0us\n",
        "Fri, 06 Feb 2015 16:13:09 GMT matrixscreener 'stderr:\\tat net.imagej.patcher.LegacyEnvironment.initialize(LegacyEnvironment.java:101)' +40.0us\n",
        "Fri, 06 Feb 2015 16:13:09 GMT matrixscreener 'stderr:\\tat net.imagej.patcher.LegacyEnvironment.applyPatches(LegacyEnvironment.java:495)' +29.0us\n",
        "Fri, 06 Feb 2015 16:13:09 GMT matrixscreener 'stderr:\\tat net.imagej.patcher.LegacyInjector.preinit(LegacyInjector.java:397)' +25.0us\n",
        "Fri, 06 Feb 2015 16:13:09 GMT matrixscreener 'stderr:\\tat net.imagej.patcher.LegacyInjector.preinit(LegacyInjector.java:376)' +25.0us\n",
        "Fri, 06 Feb 2015 16:13:09 GMT matrixscreener 'stderr:\\tat net.imagej.legacy.DefaultLegacyService.<clinit>(DefaultLegacyService.java:124)' +26.0us\n",
        "Fri, 06 Feb 2015 16:13:09 GMT matrixscreener 'stderr:\\tat sun.reflect.NativeConstructorAccessorImpl.newInstance0(Native Method)' +25.0us\n",
        "Fri, 06 Feb 2015 16:13:09 GMT matrixscreener 'stderr:\\tat sun.reflect.NativeConstructorAccessorImpl.newInstance(NativeConstructorAccessorImpl.java:39)' +26.0us\n",
        "Fri, 06 Feb 2015 16:13:09 GMT matrixscreener 'stderr:\\tat sun.reflect.DelegatingConstructorAccessorImpl.newInstance(DelegatingConstructorAccessorImpl.java:27)' +25.0us\n",
        "Fri, 06 Feb 2015 16:13:09 GMT matrixscreener 'stderr:\\tat java.lang.reflect.Constructor.newInstance(Constructor.java:513)' +38.0us\n",
        "Fri, 06 Feb 2015 16:13:09 GMT matrixscreener 'stderr:\\tat java.lang.Class.newInstance0(Class.java:357)' +44.0us\n",
        "Fri, 06 Feb 2015 16:13:09 GMT matrixscreener 'stderr:\\tat java.lang.Class.newInstance(Class.java:310)' +26.0us\n",
        "Fri, 06 Feb 2015 16:13:09 GMT matrixscreener 'stderr:\\tat org.scijava.service.ServiceHelper.createServiceRecursively(ServiceHelper.java:302)' +25.0us\n",
        "Fri, 06 Feb 2015 16:13:09 GMT matrixscreener 'stderr:\\tat org.scijava.service.ServiceHelper.createExactService(ServiceHelper.java:269)' +30.0us\n",
        "Fri, 06 Feb 2015 16:13:09 GMT matrixscreener 'stderr:\\tat org.scijava.service.ServiceHelper.loadService(ServiceHelper.java:231)' +27.0us\n",
        "Fri, 06 Feb 2015 16:13:09 GMT matrixscreener 'stderr:\\tat org.scijava.service.ServiceHelper.loadService(ServiceHelper.java:194)' +25.0us\n",
        "Fri, 06 Feb 2015 16:13:09 GMT matrixscreener 'stderr:\\tat org.scijava.service.ServiceHelper.loadServices(ServiceHelper.java:166)' +25.0us\n",
        "Fri, 06 Feb 2015 16:13:09 GMT matrixscreener 'stderr:\\tat org.scijava.Context.<init>(Context.java:265)' +25.0us\n",
        "Fri, 06 Feb 2015 16:13:09 GMT matrixscreener 'stderr:\\tat org.scijava.Context.<init>(Context.java:222)' +24.0us\n",
        "Fri, 06 Feb 2015 16:13:09 GMT matrixscreener 'stderr:\\tat org.scijava.Context.<init>(Context.java:161)' +25.0us\n",
        "Fri, 06 Feb 2015 16:13:09 GMT matrixscreener 'stderr:\\tat org.scijava.Context.<init>(Context.java:117)' +24.0us\n",
        "Fri, 06 Feb 2015 16:13:09 GMT matrixscreener 'stderr:\\tat org.scijava.Context.<init>(Context.java:105)' +24.0us\n",
        "Fri, 06 Feb 2015 16:13:09 GMT matrixscreener 'stderr:\\tat net.imagej.ImageJ.<init>(ImageJ.java:82)' +24.0us\n",
        "Fri, 06 Feb 2015 16:13:09 GMT matrixscreener 'stderr:\\tat net.imagej.Main.launch(Main.java:61)' +25.0us\n",
        "Fri, 06 Feb 2015 16:13:09 GMT matrixscreener 'stderr:\\tat net.imagej.Main.main(Main.java:73)' +25.0us\n",
        "Fri, 06 Feb 2015 16:13:09 GMT matrixscreener 'stderr:\\tat sun.reflect.NativeMethodAccessorImpl.invoke0(Native Method)' +24.0us\n",
        "Fri, 06 Feb 2015 16:13:09 GMT matrixscreener 'stderr:\\tat sun.reflect.NativeMethodAccessorImpl.invoke(NativeMethodAccessorImpl.java:39)' +26.0us\n",
        "Fri, 06 Feb 2015 16:13:09 GMT matrixscreener 'stderr:\\tat sun.reflect.DelegatingMethodAccessorImpl.invoke(DelegatingMethodAccessorImpl.java:25)' +57.0us\n",
        "Fri, 06 Feb 2015 16:13:09 GMT matrixscreener 'stderr:\\tat java.lang.reflect.Method.invoke(Method.java:597)' +82.0us\n",
        "Fri, 06 Feb 2015 16:13:09 GMT matrixscreener 'stderr:\\tat net.imagej.launcher.ClassLauncher.launch(ClassLauncher.java:258)' +34.0us\n",
        "Fri, 06 Feb 2015 16:13:09 GMT matrixscreener 'stderr:\\tat net.imagej.launcher.ClassLauncher.run(ClassLauncher.java:184)' +27.0us\n",
        "Fri, 06 Feb 2015 16:13:09 GMT matrixscreener 'stderr:\\tat net.imagej.launcher.ClassLauncher.main(ClassLauncher.java:76)' +26.0us\n",
        "Fri, 06 Feb 2015 16:13:09 GMT matrixscreener 'stderr:[INFO] Overriding Upload Sample Image; identifier: command:net.imagej.plugins.commands.upload.SampleImageUploader; jar: file:/Applications/Fiji.app/jars/imagej-plugins-commands-0.4.1.jar' +26.0us\n"
       ]
      },
      {
       "metadata": {},
       "output_type": "pyout",
       "prompt_number": 5,
       "text": [
        "[]"
       ]
      }
     ],
     "prompt_number": 5
    },
    {
     "cell_type": "code",
     "collapsed": false,
     "input": [
      "macro = ['run(\"Grid/Collection stitching\", \"type=[Filename defined position] order=[Defined by filename         ] grid_size_x=1 grid_size_y=2 tile_overlap=10 first_file_index_x=0 first_file_index_y=0 directory=[/var/folders/mx/t9hzs5852cxgk0548k1vdsxr0000gn/T/stitch-notebook/experiment/slide--S00/chamber--U00--V00] file_names=field--X{xx}--Y{yy}/image--L00--S00--U00--V00--J20--E00--O00--X{xx}--Y{yy}--T00--Z00--C00.tif output_textfile_name=TileConfiguration.txt fusion_method=[Linear Blending] regression_threshold=0.30 max/avg_displacement_threshold=2.50 absolute_displacement_threshold=3.50 compute_overlap subpixel_accuracy computation_parameters=[Save computation time (but use more RAM)] image_output=[Fused and display]\"); selectWindow(\"Fused\"); run(\"Save\", \"save=[/var/folders/mx/t9hzs5852cxgk0548k1vdsxr0000gn/T/stitch-notebook/experiment/slide--S00/chamber--U00--V00/../../../stitched/stitched--U00--V00--C00--Z00.png]\"); close();', 'run(\"Grid/Collection stitching\", \"type=[Filename defined position] order=[Defined by filename         ] grid_size_x=1 grid_size_y=2 tile_overlap=10 first_file_index_x=0 first_file_index_y=0 directory=[/var/folders/mx/t9hzs5852cxgk0548k1vdsxr0000gn/T/stitch-notebook/experiment/slide--S00/chamber--U00--V00] file_names=field--X{xx}--Y{yy}/image--L00--S00--U00--V00--J20--E00--O00--X{xx}--Y{yy}--T00--Z00--C01.tif output_textfile_name=TileConfiguration.txt fusion_method=[Linear Blending] regression_threshold=0.30 max/avg_displacement_threshold=2.50 absolute_displacement_threshold=3.50 compute_overlap subpixel_accuracy computation_parameters=[Save computation time (but use more RAM)] image_output=[Fused and display]\"); selectWindow(\"Fused\"); run(\"Save\", \"save=[/var/folders/mx/t9hzs5852cxgk0548k1vdsxr0000gn/T/stitch-notebook/experiment/slide--S00/chamber--U00--V00/../../../stitched/stitched--U00--V00--C00--Z00.png]\"); close();']"
     ],
     "language": "python",
     "metadata": {},
     "outputs": [],
     "prompt_number": 25
    },
    {
     "cell_type": "code",
     "collapsed": false,
     "input": [
      "len(macro)"
     ],
     "language": "python",
     "metadata": {},
     "outputs": [
      {
       "metadata": {},
       "output_type": "pyout",
       "prompt_number": 14,
       "text": [
        "2"
       ]
      }
     ],
     "prompt_number": 14
    },
    {
     "cell_type": "code",
     "collapsed": false,
     "input": [
      "!ls /var/folders/mx/t9hzs5852cxgk0548k1vdsxr0000gn/T/stitch-notebook/experiment/slide--S00/chamber--U00--V00/../../../"
     ],
     "language": "python",
     "metadata": {},
     "outputs": [
      {
       "output_type": "stream",
       "stream": "stdout",
       "text": [
        "\u001b[34mexperiment\u001b[m\u001b[m \u001b[34mstitched\u001b[m\u001b[m\r\n"
       ]
      }
     ],
     "prompt_number": 12
    },
    {
     "cell_type": "code",
     "collapsed": false,
     "input": [
      "macro = ' '.join(macro)"
     ],
     "language": "python",
     "metadata": {},
     "outputs": [],
     "prompt_number": 26
    },
    {
     "cell_type": "code",
     "collapsed": false,
     "input": [
      "print(macro)"
     ],
     "language": "python",
     "metadata": {},
     "outputs": [
      {
       "output_type": "stream",
       "stream": "stdout",
       "text": [
        "run(\"Grid/Collection stitching\", \"type=[Filename defined position] order=[Defined by filename         ] grid_size_x=1 grid_size_y=2 tile_overlap=10 first_file_index_x=0 first_file_index_y=0 directory=[/var/folders/mx/t9hzs5852cxgk0548k1vdsxr0000gn/T/stitch-notebook/experiment/slide--S00/chamber--U00--V00] file_names=field--X{xx}--Y{yy}/image--L00--S00--U00--V00--J20--E00--O00--X{xx}--Y{yy}--T00--Z00--C00.tif output_textfile_name=TileConfiguration.txt fusion_method=[Linear Blending] regression_threshold=0.30 max/avg_displacement_threshold=2.50 absolute_displacement_threshold=3.50 compute_overlap subpixel_accuracy computation_parameters=[Save computation time (but use more RAM)] image_output=[Fused and display]\"); selectWindow(\"Fused\"); run(\"Save\", \"save=[/var/folders/mx/t9hzs5852cxgk0548k1vdsxr0000gn/T/stitch-notebook/experiment/slide--S00/chamber--U00--V00/../../../stitched/stitched--U00--V00--C00--Z00.png]\"); close(); run(\"Grid/Collection stitching\", \"type=[Filename defined position] order=[Defined by filename         ] grid_size_x=1 grid_size_y=2 tile_overlap=10 first_file_index_x=0 first_file_index_y=0 directory=[/var/folders/mx/t9hzs5852cxgk0548k1vdsxr0000gn/T/stitch-notebook/experiment/slide--S00/chamber--U00--V00] file_names=field--X{xx}--Y{yy}/image--L00--S00--U00--V00--J20--E00--O00--X{xx}--Y{yy}--T00--Z00--C01.tif output_textfile_name=TileConfiguration.txt fusion_method=[Linear Blending] regression_threshold=0.30 max/avg_displacement_threshold=2.50 absolute_displacement_threshold=3.50 compute_overlap subpixel_accuracy computation_parameters=[Save computation time (but use more RAM)] image_output=[Fused and display]\"); selectWindow(\"Fused\"); run(\"Save\", \"save=[/var/folders/mx/t9hzs5852cxgk0548k1vdsxr0000gn/T/stitch-notebook/experiment/slide--S00/chamber--U00--V00/../../../stitched/stitched--U00--V00--C00--Z00.png]\"); close();\n"
       ]
      }
     ],
     "prompt_number": 29
    },
    {
     "cell_type": "code",
     "collapsed": false,
     "input": [
      "%%writefile macro.ijm\n",
      "run(\"Grid/Collection stitching\", \"type=[Filename defined position] order=[Defined by filename         ] grid_size_x=1 grid_size_y=2 tile_overlap=10 first_file_index_x=0 first_file_index_y=0 directory=[/var/folders/mx/t9hzs5852cxgk0548k1vdsxr0000gn/T/stitch-notebook/experiment/slide--S00/chamber--U00--V00] file_names=field--X{xx}--Y{yy}/image--L00--S00--U00--V00--J20--E00--O00--X{xx}--Y{yy}--T00--Z00--C00.tif output_textfile_name=TileConfiguration.txt fusion_method=[Linear Blending] regression_threshold=0.30 max/avg_displacement_threshold=2.50 absolute_displacement_threshold=3.50 compute_overlap subpixel_accuracy computation_parameters=[Save computation time (but use more RAM)] image_output=[Fused and display]\"); selectWindow(\"Fused\"); run(\"Save\", \"save=[/var/folders/mx/t9hzs5852cxgk0548k1vdsxr0000gn/T/stitch-notebook/experiment/slide--S00/chamber--U00--V00/../../../stitched/stitched--U00--V00--C00--Z00.png]\"); close(); run(\"Grid/Collection stitching\", \"type=[Filename defined position] order=[Defined by filename         ] grid_size_x=1 grid_size_y=2 tile_overlap=10 first_file_index_x=0 first_file_index_y=0 directory=[/var/folders/mx/t9hzs5852cxgk0548k1vdsxr0000gn/T/stitch-notebook/experiment/slide--S00/chamber--U00--V00] file_names=field--X{xx}--Y{yy}/image--L00--S00--U00--V00--J20--E00--O00--X{xx}--Y{yy}--T00--Z00--C01.tif output_textfile_name=TileConfiguration.txt fusion_method=[Linear Blending] regression_threshold=0.30 max/avg_displacement_threshold=2.50 absolute_displacement_threshold=3.50 compute_overlap subpixel_accuracy computation_parameters=[Save computation time (but use more RAM)] image_output=[Fused and display]\"); selectWindow(\"Fused\"); run(\"Save\", \"save=[/var/folders/mx/t9hzs5852cxgk0548k1vdsxr0000gn/T/stitch-notebook/experiment/slide--S00/chamber--U00--V00/../../../stitched/stitched--U00--V00--C00--Z00.png]\"); close();"
     ],
     "language": "python",
     "metadata": {},
     "outputs": [
      {
       "output_type": "stream",
       "stream": "stdout",
       "text": [
        "Overwriting macro.ijm\n"
       ]
      }
     ],
     "prompt_number": 30
    },
    {
     "cell_type": "code",
     "collapsed": false,
     "input": [
      "!ls"
     ],
     "language": "python",
     "metadata": {},
     "outputs": [
      {
       "output_type": "stream",
       "stream": "stdout",
       "text": [
        "compress.ipynb macro.ijm      stitch.ipynb\r\n"
       ]
      }
     ],
     "prompt_number": 32
    },
    {
     "cell_type": "code",
     "collapsed": false,
     "input": [
      "from matrixscreener.experiment import attributes"
     ],
     "language": "python",
     "metadata": {},
     "outputs": [],
     "prompt_number": 8
    },
    {
     "cell_type": "code",
     "collapsed": false,
     "input": [
      "attr = attributes(e.images[0])"
     ],
     "language": "python",
     "metadata": {},
     "outputs": [],
     "prompt_number": 9
    },
    {
     "cell_type": "code",
     "collapsed": false,
     "input": [
      "'--U{U}--V{V}'.format(**attr._asdict())"
     ],
     "language": "python",
     "metadata": {},
     "outputs": [
      {
       "metadata": {},
       "output_type": "pyout",
       "prompt_number": 26,
       "text": [
        "'--U00--V00'"
       ]
      }
     ],
     "prompt_number": 26
    }
   ],
   "metadata": {}
  }
 ]
}